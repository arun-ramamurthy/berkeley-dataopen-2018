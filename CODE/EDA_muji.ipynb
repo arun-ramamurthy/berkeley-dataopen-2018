{
 "cells": [
  {
   "cell_type": "code",
   "execution_count": 1,
   "metadata": {
    "collapsed": true
   },
   "outputs": [],
   "source": [
    "import pandas as pd\n",
    "import numpy as np\n",
    "import seaborn as sns\n",
    "from matplotlib import pyplot as plt\n",
    "%matplotlib inline\n",
    "\n",
    "import warnings\n",
    "from collections import Counter\n",
    "from sklearn.feature_selection import mutual_info_classif\n",
    "from sklearn.preprocessing import PolynomialFeatures\n",
    "warnings.filterwarnings('ignore')\n",
    "\n",
    "import pickle\n",
    "import xgboost as xgb\n",
    "\n",
    "import numpy as np\n",
    "from sklearn.model_selection import train_test_split, GridSearchCV #KFold \n",
    "from sklearn.cross_validation import StratifiedKFold, KFold\n",
    "from sklearn.metrics import confusion_matrix, mean_squared_error, mean_absolute_error\n",
    "from sklearn.datasets import load_iris, load_digits, load_boston\n",
    "from sklearn.linear_model import Ridge\n",
    "from sklearn.ensemble import RandomForestRegressor\n",
    "\n",
    "import time\n",
    "import pygeohash as pgh\n",
    "import geopy.distance"
   ]
  },
  {
   "cell_type": "code",
   "execution_count": 2,
   "metadata": {},
   "outputs": [
    {
     "data": {
      "text/html": [
       "<style>.container { width:90% !important; }</style>"
      ],
      "text/plain": [
       "<IPython.core.display.HTML object>"
      ]
     },
     "metadata": {},
     "output_type": "display_data"
    }
   ],
   "source": [
    "from IPython.core.display import display, HTML\n",
    "display(HTML(\"<style>.container { width:90% !important; }</style>\"))"
   ]
  },
  {
   "cell_type": "code",
   "execution_count": 3,
   "metadata": {
    "collapsed": true
   },
   "outputs": [],
   "source": [
    "community_health = pd.read_csv(\"../DATA/community_health.csv\")"
   ]
  },
  {
   "cell_type": "code",
   "execution_count": 15,
   "metadata": {},
   "outputs": [],
   "source": [
    "service_reqs = pd.read_feather(\"../DATA/311_service_requests.feather\")"
   ]
  },
  {
   "cell_type": "code",
   "execution_count": 13,
   "metadata": {
    "scrolled": true
   },
   "outputs": [
    {
     "data": {
      "text/plain": [
       "E3 Dirty Sidewalk                   71716\n",
       "E15 Illegal Postering               50682\n",
       "E3A Dirty Area/Alleyway             48184\n",
       "E1 Improper Disposal                26261\n",
       "E12 Illegal Dumping Surveillance    25821\n",
       "E8 Canine Violation                 22919\n",
       "E5 Loose Rubbish                    10065\n",
       "E2 Receptacle Violation              9618\n",
       "E11 Litter Surveillance              7849\n",
       "E4 18\" Law                           5811\n",
       "E1A Litter Basket / Improper Use     2585\n",
       "E13 Throw-Out                        1536\n",
       "E7 Private Carter Spillage            247\n",
       "E3B Sidewalk Obstruction              222\n",
       "Name: description, dtype: int64"
      ]
     },
     "execution_count": 13,
     "metadata": {},
     "output_type": "execute_result"
    }
   ],
   "source": [
    "mask = service_reqs['complaint_type'].values == 'Dirty Conditions'\n",
    "service_reqs[mask].description.value_counts()"
   ]
  },
  {
   "cell_type": "code",
   "execution_count": 6,
   "metadata": {
    "scrolled": true
   },
   "outputs": [
    {
     "data": {
      "text/plain": [
       "Water System                     526705\n",
       "Dirty Conditions                 283516\n",
       "Sanitation Condition             241938\n",
       "Rodent                           212545\n",
       "Food Establishment                66151\n",
       "Air Quality                       60458\n",
       "Indoor Air Quality                37548\n",
       "Food Poisoning                    24652\n",
       "Hazardous Materials               21966\n",
       "Asbestos                          16319\n",
       "Smoking                           15090\n",
       "Drinking                          10823\n",
       "Water Quality                      9686\n",
       "Mold                               2644\n",
       "Annual Inspection                  2316\n",
       "Animal                             1425\n",
       "Drinking Water                      873\n",
       "Damaged or Dead Tree                449\n",
       "BBQ Outside Authorized Area         175\n",
       "Health                              164\n",
       "Calorie Labeling                    126\n",
       "Annual/ Cycle Inspection            117\n",
       "Trans Fat                            28\n",
       "Animal Waste                         26\n",
       "Illegal Animal - Sold/Kept           22\n",
       "Baby Formula                         16\n",
       "Garbage or Litter                    14\n",
       "Illegal Pet - Sold/Kept              12\n",
       "DORIS Literature Request             10\n",
       "Graffiti or Vandalism                10\n",
       "Grass/Weeds                           8\n",
       "Healthcare Facilities                 6\n",
       "Injured Wildlife                      6\n",
       "Hazardous Conditions                  5\n",
       "Employee Behavior                     4\n",
       "DOHMH Literature Request              4\n",
       "General Question                      4\n",
       "Homebound Evacuation 4                2\n",
       "Killing/Trapping Pigeon               2\n",
       "Biking/Rollerblading Off Path         1\n",
       "CFC Recovery                          1\n",
       "Health and Safety                     1\n",
       "Animal unsanitary condition           1\n",
       "MOLD                                  1\n",
       "Name: complaint_type, dtype: int64"
      ]
     },
     "execution_count": 6,
     "metadata": {},
     "output_type": "execute_result"
    }
   ],
   "source": [
    "service_reqs.complaint_type.value_counts()"
   ]
  },
  {
   "cell_type": "code",
   "execution_count": 7,
   "metadata": {
    "scrolled": true
   },
   "outputs": [
    {
     "data": {
      "text/plain": [
       "15 Street Cond/Dump-Out/Drop-Off                               157461\n",
       "Rat Sighting                                                   109122\n",
       "Leak (Use Comments) (WA2)                                      102991\n",
       "Hydrant Running Full (WA4)                                      77069\n",
       "E3 Dirty Sidewalk                                               71716\n",
       "12 Dead Animals                                                 69424\n",
       "Hydrant Running (WC3)                                           67212\n",
       "Dirty Water (WE)                                                64856\n",
       "Condition Attracting Rodents                                    54572\n",
       "E15 Illegal Postering                                           50682\n",
       "E3A Dirty Area/Alleyway                                         48184\n",
       "Fire Hydrant Emergency (FHE)                                    46015\n",
       "Hydrant Leaking (WC1)                                           37018\n",
       "Mouse Sighting                                                  33843\n",
       "E1 Improper Disposal                                            26261\n",
       "Hydrant Defective (WC2)                                         25851\n",
       "E12 Illegal Dumping Surveillance                                25821\n",
       "E8 Canine Violation                                             22919\n",
       "1 or 2                                                          20917\n",
       "Rodents/Insects/Garbage                                         19118\n",
       "Air: Odor/Fumes, Vehicle Idling (AD3)                           17916\n",
       "No Water/Low Pressure (WA5)                                     17382\n",
       "Possible Water Main Break (Use Comments) (WA1)                  17134\n",
       "Chemical Vapors/Gases/Odors                                     15413\n",
       "Smoking Violation                                               15060\n",
       "Signs of Rodents                                                15005\n",
       "NO WATER - WNW                                                  14645\n",
       "22 Weeds                                                        14209\n",
       "Other Water Problem (Use Comments) (WZZ)                        12463\n",
       "Hydrant Knocked Over/Missing (WC)                               12417\n",
       "                                                                ...  \n",
       "Open Excavation (WZZ2)                                              7\n",
       "Injured Wildlife                                                    6\n",
       "Lead, Outdoor (HJ2)                                                 6\n",
       "Hazardous Conditions                                                5\n",
       "Building Collapse/Fire, (Asbestos Related) (HH1)                    5\n",
       "Health Instruction in School                                        4\n",
       "Your New Baby Brochure - Spanish                                    4\n",
       "CP1 Employee Behavior-Bcc                                           4\n",
       "Turtle Less Than 4 Inches                                           3\n",
       "Medical Gas - Storage - Modif                                       3\n",
       "Air: Dust, Other (Use Comments) (AE5)                               3\n",
       "Rodent Bite - PCS Only                                              3\n",
       "NO WATER (WNW)                                                      3\n",
       "About NYC Opportunity                                               2\n",
       "Projects                                                            2\n",
       "TAL 2 Wheelchair                                                    2\n",
       "Lead, Indoor (HJ1)                                                  2\n",
       "Indoor Air Complaint (HK1)                                          2\n",
       "Carbon Monoxide                                                     2\n",
       "BWSO Referral To Water Quality (For DEP Internal Use Only)          1\n",
       "Medical Gas - Storage - New                                         1\n",
       "Service line termination *FOR DEP INTERNAL USE ONLY* (WSLT)         1\n",
       "Taste/Odor - Musty/Stale                                            1\n",
       "Medical Gas - Distr - New                                           1\n",
       "Ferret                                                              1\n",
       "Biking/Rollerblading Off Path                                       1\n",
       "Rooster                                                             1\n",
       "Medical Gas - Distr - Modif                                         1\n",
       "Obtaining Health Insurance                                          1\n",
       "17 CFC Appliance                                                    1\n",
       "Name: description, Length: 186, dtype: int64"
      ]
     },
     "execution_count": 7,
     "metadata": {},
     "output_type": "execute_result"
    }
   ],
   "source": [
    "service_reqs.description.value_counts()"
   ]
  },
  {
   "cell_type": "code",
   "execution_count": 20,
   "metadata": {},
   "outputs": [
    {
     "data": {
      "text/plain": [
       "Timestamp('2010-01-01 01:00:00+0000', tz='UTC')"
      ]
     },
     "execution_count": 20,
     "metadata": {},
     "output_type": "execute_result"
    }
   ],
   "source": [
    "service_reqs.created.min()"
   ]
  },
  {
   "cell_type": "code",
   "execution_count": 21,
   "metadata": {},
   "outputs": [
    {
     "data": {
      "text/plain": [
       "Timestamp('2018-03-13 02:56:54+0000', tz='UTC')"
      ]
     },
     "execution_count": 21,
     "metadata": {},
     "output_type": "execute_result"
    }
   ],
   "source": [
    "service_reqs.created.max()"
   ]
  },
  {
   "cell_type": "code",
   "execution_count": 28,
   "metadata": {},
   "outputs": [
    {
     "data": {
      "text/plain": [
       "2017    211987\n",
       "2016    211176\n",
       "2015    203562\n",
       "2010    185211\n",
       "2014    172764\n",
       "2011    172274\n",
       "2012    166830\n",
       "2013    163814\n",
       "2018     48252\n",
       "Name: created, dtype: int64"
      ]
     },
     "execution_count": 28,
     "metadata": {},
     "output_type": "execute_result"
    }
   ],
   "source": [
    "service_reqs.created.dt.year.value_counts()"
   ]
  },
  {
   "cell_type": "code",
   "execution_count": 38,
   "metadata": {},
   "outputs": [],
   "source": [
    "nta_indicators = pd.read_excel(\"../DATA/Appendix_Housing_and_Health_Indicators_by_NTA_072418.xlsx\").iloc[2:]\n",
    "nta_indicators.columns = nta_indicators.iloc[0]"
   ]
  },
  {
   "cell_type": "code",
   "execution_count": 41,
   "metadata": {},
   "outputs": [],
   "source": [
    "nta_indicators = nta_indicators.iloc[1:]"
   ]
  },
  {
   "cell_type": "code",
   "execution_count": 60,
   "metadata": {},
   "outputs": [],
   "source": [
    "ntai = nta_indicators.iloc[:188,0:7]\n"
   ]
  },
  {
   "cell_type": "code",
   "execution_count": 61,
   "metadata": {},
   "outputs": [
    {
     "data": {
      "text/plain": [
       "Index(['nta_name', 'nta_code'], dtype='object')"
      ]
     },
     "execution_count": 61,
     "metadata": {},
     "output_type": "execute_result"
    }
   ],
   "source": [
    "ntas = pd.read_csv(\"../DATA/demographics_city.csv\")[['nta_name', 'nta_code']]\n",
    "ntas.columns"
   ]
  },
  {
   "cell_type": "code",
   "execution_count": 62,
   "metadata": {},
   "outputs": [],
   "source": [
    "ntai.columns = ['nta_name', 'borough', 'nta_code', 'crowded_housing', 'ED_visits_per_100', 'medicaid_concentration', 'medicaid_enrollees']"
   ]
  },
  {
   "cell_type": "code",
   "execution_count": 68,
   "metadata": {},
   "outputs": [
    {
     "data": {
      "text/plain": [
       "True"
      ]
     },
     "execution_count": 68,
     "metadata": {},
     "output_type": "execute_result"
    }
   ],
   "source": [
    "ntai.shape[0] == ntas.shape[0]"
   ]
  },
  {
   "cell_type": "code",
   "execution_count": 71,
   "metadata": {},
   "outputs": [],
   "source": [
    "ntai.to_csv(\"../DATA/nta_health_features.csv\")"
   ]
  },
  {
   "cell_type": "code",
   "execution_count": null,
   "metadata": {
    "collapsed": true
   },
   "outputs": [],
   "source": []
  }
 ],
 "metadata": {
  "kernelspec": {
   "display_name": "Python 3",
   "language": "python",
   "name": "python3"
  },
  "language_info": {
   "codemirror_mode": {
    "name": "ipython",
    "version": 3
   },
   "file_extension": ".py",
   "mimetype": "text/x-python",
   "name": "python",
   "nbconvert_exporter": "python",
   "pygments_lexer": "ipython3",
   "version": "3.6.2"
  }
 },
 "nbformat": 4,
 "nbformat_minor": 2
}
