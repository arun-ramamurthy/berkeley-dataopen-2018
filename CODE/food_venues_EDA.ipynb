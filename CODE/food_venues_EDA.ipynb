{
 "cells": [
  {
   "cell_type": "code",
   "execution_count": 254,
   "metadata": {},
   "outputs": [],
   "source": [
    "import numpy as np\n",
    "import pandas as pd\n",
    "import re\n",
    "import matplotlib\n",
    "import matplotlib.pyplot as plt"
   ]
  },
  {
   "cell_type": "code",
   "execution_count": 91,
   "metadata": {},
   "outputs": [],
   "source": [
    "food_venues = pd.read_csv('food_venues.csv', encoding = \"ISO-8859-1\")\n",
    "#food_venues"
   ]
  },
  {
   "cell_type": "code",
   "execution_count": 216,
   "metadata": {},
   "outputs": [],
   "source": [
    "ny_food = food_venues.loc[food_venues.state == \"NY\"]\n",
    "#queens and manhattan are grouped into NYC\n",
    "ny_food = ny_food.loc[ny_food.city.isin([\"New York City\", \"New York\", \"Brooklyn\", \"Bronx\", \"Staten Island\"])]\n",
    "#ny_food.filter(regex = \"American\", axis = 0"
   ]
  },
  {
   "cell_type": "code",
   "execution_count": 217,
   "metadata": {
    "scrolled": false
   },
   "outputs": [],
   "source": [
    "#food_venues.categories.value_counts()\n",
    "#ny_food.business_name.value_counts()"
   ]
  },
  {
   "cell_type": "code",
   "execution_count": 259,
   "metadata": {},
   "outputs": [
    {
     "data": {
      "text/plain": [
       "city\n",
       "Bronx            0.188368\n",
       "Brooklyn         0.791367\n",
       "New York City    4.514207\n",
       "Staten Island    0.085193\n",
       "Name: categories, dtype: float64"
      ]
     },
     "execution_count": 259,
     "metadata": {},
     "output_type": "execute_result"
    }
   ],
   "source": [
    "\n",
    "#total number of fast food restaurants in NYC \n",
    "fast_food = ny_food[ny_food['categories'].str.contains(\"Fast\")]\n",
    "#counts total number of restaurants in the ny_food dataset\n",
    "w = ny_food[ny_food.type == \"restaurant\"].groupby([\"city\"]).count().categories\n",
    "#group by city to count fast food per bourough and divide by square mile\n",
    "fast = fast_food.groupby([\"city\"]).count().categories/[42.47, 69.5, 108.1+22.82, 58.69]\n",
    "\n",
    "\n",
    "d = diabetes_death_by_county = comm_health_ny[\n",
    "    comm_health_ny.indicator == 'Age-adjusted diabetes mortality rate per 100,000'].groupby([\"county\"]).mean()\n",
    "# fig, ax = plt.subplots()\n",
    "# ax.plot(fast, d, 'o')\n",
    "# ax.set_title('Using hyphen instead of Unicode minus')\n",
    "# plt.show()\n",
    "fast"
   ]
  },
  {
   "cell_type": "code",
   "execution_count": 248,
   "metadata": {},
   "outputs": [
    {
     "data": {
      "text/plain": [
       "city\n",
       "Bronx            35.295503\n",
       "Brooklyn         16.676259\n",
       "New York          8.096548\n",
       "Staten Island     3.322542\n",
       "Name: categories, dtype: float64"
      ]
     },
     "execution_count": 248,
     "metadata": {},
     "output_type": "execute_result"
    }
   ],
   "source": [
    "groc = ny_food[ny_food.type == \"grocery store\"].groupby([\"city\"]).count().categories\n",
    "groc/[42.47, 69.5, 108.1+22.82, 58.69]"
   ]
  },
  {
   "cell_type": "code",
   "execution_count": 96,
   "metadata": {},
   "outputs": [],
   "source": [
    "#fast_food.loc[fast_food.city.isin([\"New York City\", \"Brooklyn\", \"Bronx\", \"Staten Island\"])]"
   ]
  },
  {
   "cell_type": "code",
   "execution_count": 122,
   "metadata": {},
   "outputs": [],
   "source": [
    "#ny_food[ny_food.type== \"grocery store\"].categories.value_counts()\n",
    "#convenience stores, natural food products, diet food, nutrutionist"
   ]
  },
  {
   "cell_type": "code",
   "execution_count": 144,
   "metadata": {},
   "outputs": [],
   "source": [
    "comm_health = pd.read_csv(\"health_indicators-2.csv\")"
   ]
  },
  {
   "cell_type": "code",
   "execution_count": 145,
   "metadata": {},
   "outputs": [],
   "source": [
    "comm_health[comm_health['county'].str.contains(\"New York\")]\n",
    "comm_health_ny = comm_health.loc[comm_health.county.isin([\"New York\", \"Kings\", \"Queens\", \"Richmond\", \"Bronx\"])]"
   ]
  },
  {
   "cell_type": "code",
   "execution_count": 146,
   "metadata": {},
   "outputs": [
    {
     "data": {
      "text/plain": [
       "Cardiovascular Disease Indicators                               220\n",
       "Cancer Indicators                                               200\n",
       "Injury Indicators                                               185\n",
       "Maternal and Infant Health Indicators                           175\n",
       "Child and Adolescent Health Indicators                          100\n",
       "Socio-Economic Status and General Health Indicators             100\n",
       "HIV/AIDS and Other Sexually Transmitted Infection Indicators     85\n",
       "Cirrhosis/Diabetes Indicators                                    85\n",
       "Respiratory Disease Indicators                                   85\n",
       "Obesity and Related Indicators                                   80\n",
       "Family Planning/Natality Indicators                              80\n",
       "Communicable Disease Indicators                                  70\n",
       "Oral Health Indicators                                           35\n",
       "Tobacco, Alcohol and Other Substance Abuse Indicators            35\n",
       "Occupational Health Indicators                                   25\n",
       "Name: topic, dtype: int64"
      ]
     },
     "execution_count": 146,
     "metadata": {},
     "output_type": "execute_result"
    }
   ],
   "source": [
    "comm_health_ny.topic.value_counts()"
   ]
  },
  {
   "cell_type": "code",
   "execution_count": 147,
   "metadata": {},
   "outputs": [
    {
     "data": {
      "text/html": [
       "<div>\n",
       "<style>\n",
       "    .dataframe thead tr:only-child th {\n",
       "        text-align: right;\n",
       "    }\n",
       "\n",
       "    .dataframe thead th {\n",
       "        text-align: left;\n",
       "    }\n",
       "\n",
       "    .dataframe tbody tr th {\n",
       "        vertical-align: top;\n",
       "    }\n",
       "</style>\n",
       "<table border=\"1\" class=\"dataframe\">\n",
       "  <thead>\n",
       "    <tr style=\"text-align: right;\">\n",
       "      <th></th>\n",
       "      <th>count</th>\n",
       "      <th>denom</th>\n",
       "      <th>value</th>\n",
       "      <th>start_year</th>\n",
       "      <th>end_year</th>\n",
       "      <th>lat</th>\n",
       "      <th>lon</th>\n",
       "    </tr>\n",
       "    <tr>\n",
       "      <th>county</th>\n",
       "      <th></th>\n",
       "      <th></th>\n",
       "      <th></th>\n",
       "      <th></th>\n",
       "      <th></th>\n",
       "      <th></th>\n",
       "      <th></th>\n",
       "    </tr>\n",
       "  </thead>\n",
       "  <tbody>\n",
       "    <tr>\n",
       "      <th>Bronx</th>\n",
       "      <td>37822.625</td>\n",
       "      <td>1.324884e+06</td>\n",
       "      <td>90.588235</td>\n",
       "      <td>2012.058824</td>\n",
       "      <td>2014.0</td>\n",
       "      <td>40.855890</td>\n",
       "      <td>-73.868294</td>\n",
       "    </tr>\n",
       "    <tr>\n",
       "      <th>Kings</th>\n",
       "      <td>53728.750</td>\n",
       "      <td>2.416922e+06</td>\n",
       "      <td>69.652941</td>\n",
       "      <td>2012.058824</td>\n",
       "      <td>2014.0</td>\n",
       "      <td>40.656420</td>\n",
       "      <td>-73.950691</td>\n",
       "    </tr>\n",
       "    <tr>\n",
       "      <th>New York</th>\n",
       "      <td>27183.125</td>\n",
       "      <td>1.519372e+06</td>\n",
       "      <td>52.811765</td>\n",
       "      <td>2012.058824</td>\n",
       "      <td>2014.0</td>\n",
       "      <td>40.726966</td>\n",
       "      <td>-74.005966</td>\n",
       "    </tr>\n",
       "    <tr>\n",
       "      <th>Queens</th>\n",
       "      <td>38913.000</td>\n",
       "      <td>2.142770e+06</td>\n",
       "      <td>54.088235</td>\n",
       "      <td>2012.058824</td>\n",
       "      <td>2014.0</td>\n",
       "      <td>40.749338</td>\n",
       "      <td>-73.789673</td>\n",
       "    </tr>\n",
       "    <tr>\n",
       "      <th>Richmond</th>\n",
       "      <td>9733.500</td>\n",
       "      <td>4.406025e+05</td>\n",
       "      <td>64.452941</td>\n",
       "      <td>2012.058824</td>\n",
       "      <td>2014.0</td>\n",
       "      <td>40.566763</td>\n",
       "      <td>-74.148102</td>\n",
       "    </tr>\n",
       "  </tbody>\n",
       "</table>\n",
       "</div>"
      ],
      "text/plain": [
       "              count         denom      value   start_year  end_year  \\\n",
       "county                                                                \n",
       "Bronx     37822.625  1.324884e+06  90.588235  2012.058824    2014.0   \n",
       "Kings     53728.750  2.416922e+06  69.652941  2012.058824    2014.0   \n",
       "New York  27183.125  1.519372e+06  52.811765  2012.058824    2014.0   \n",
       "Queens    38913.000  2.142770e+06  54.088235  2012.058824    2014.0   \n",
       "Richmond   9733.500  4.406025e+05  64.452941  2012.058824    2014.0   \n",
       "\n",
       "                lat        lon  \n",
       "county                          \n",
       "Bronx     40.855890 -73.868294  \n",
       "Kings     40.656420 -73.950691  \n",
       "New York  40.726966 -74.005966  \n",
       "Queens    40.749338 -73.789673  \n",
       "Richmond  40.566763 -74.148102  "
      ]
     },
     "execution_count": 147,
     "metadata": {},
     "output_type": "execute_result"
    }
   ],
   "source": [
    "comm_health_ny[comm_health_ny.topic == \"Cirrhosis/Diabetes Indicators\"].groupby([\"county\"]).mean()"
   ]
  },
  {
   "cell_type": "code",
   "execution_count": 150,
   "metadata": {},
   "outputs": [
    {
     "data": {
      "text/plain": [
       "Percentage of pregnant women in WIC who were pre-pregnancy obese (BMI 30 or higher)                             5\n",
       "Age-adjusted cerebrovascular disease (stroke) mortality rate per 100,000                                        5\n",
       "Age-adjusted percentage of adults who did not participate in leisure time physical activity in last 30 days     5\n",
       "Age-adjusted cardiovascular disease mortality rate per 100,000                                                  5\n",
       "Percentage of WIC infants breastfeeding at least 6 months                                                       5\n",
       "Age-adjusted diabetes hospitalization rate per 10,000 (primary diagnosis)                                       5\n",
       "Percentage of children (aged 2-4 years) enrolled in WIC watching TV 2 hours or less per day                     5\n",
       "Age-adjusted percentage of adults eating 5 or more fruits or vegetables per day                                 5\n",
       "Age-adjusted percentage of adults overweight or obese (BMI 25 or higher)                                        5\n",
       "Age-adjusted diabetes mortality rate per 100,000                                                                5\n",
       "Age-adjusted percentage of adults obese (BMI 30 or higher)                                                      5\n",
       "Percentage of pregnant women in WIC who were pre-pregnancy overweight but not obese (BMI 25 to less than 30)    5\n",
       "Percentage obese (95th percentile or higher) children (aged 2-4 years) in WIC                                   5\n",
       "Age-adjusted percentage of adults with physician diagnosed diabetes                                             5\n",
       "Age-adjusted cerebrovascular disease (stroke) hospitalization rate per 10,000                                   5\n",
       "Age-adjusted cardiovascular disease hospitalization rate per 10,000                                             5\n",
       "Name: indicator, dtype: int64"
      ]
     },
     "execution_count": 150,
     "metadata": {},
     "output_type": "execute_result"
    }
   ],
   "source": [
    "comm_health_ny[comm_health_ny.topic == \"Obesity and Related Indicators\"].indicator.value_counts()"
   ]
  },
  {
   "cell_type": "code",
   "execution_count": 157,
   "metadata": {},
   "outputs": [
    {
     "data": {
      "text/plain": [
       "Total hospitalization rate per 10,000                                                                 5\n",
       "Percentage premature deaths (aged less than 75 years)                                                 5\n",
       "Years of potential life lost per 100,000                                                              5\n",
       "Percentage of children aged <18 years below poverty                                                   5\n",
       "Age-adjusted percentage of adults who had poor mental health 14 or more days within the past month    5\n",
       "Percentage of children aged <19 years with health insurance                                           5\n",
       "Percentage of high school drop out                                                                    5\n",
       "Age-adjusted total mortality rate per 100,000                                                         5\n",
       "Median household income in US dollars                                                                 5\n",
       "Age-adjusted percentage of adults who did not receive medical care because of cost                    5\n",
       "Age-adjusted percentage of adults with regular health care provider                                   5\n",
       "Percentage of labor force unemployed                                                                  5\n",
       "Total emergency department visit rate per 10,000                                                      5\n",
       "Percentage of adults aged 18-64 years with health insurance                                           5\n",
       "Total mortality rate per 100,000                                                                      5\n",
       "Birth rate per 1,000 population                                                                       5\n",
       "Percentage of population below poverty                                                                5\n",
       "Age-adjusted total hospitalization rate per 10,000                                                    5\n",
       "Age-adjusted total emergency department visit rate per 10,000                                         5\n",
       "Total population                                                                                      5\n",
       "Name: indicator, dtype: int64"
      ]
     },
     "execution_count": 157,
     "metadata": {},
     "output_type": "execute_result"
    }
   ],
   "source": [
    "#go into motivation of why we chose to look at this\n",
    "comm_health_ny[comm_health_ny.topic == \"Socio-Economic Status and General Health Indicators\"].indicator.value_counts()"
   ]
  },
  {
   "cell_type": "code",
   "execution_count": 160,
   "metadata": {},
   "outputs": [
    {
     "data": {
      "text/plain": [
       "Percentage of adults aged 65 years and older who ever received pneumonia shot                5\n",
       "Acute hepatitis B incidence per 100,000                                                      5\n",
       "Lyme disease incidence per 100,000                                                           5\n",
       "Tuberculosis incidence per 100,000                                                           5\n",
       "E. coli O157 incidence per 100,000                                                           5\n",
       "Percentage of adults 65 years and older had a flu shot or flu vaccine (mist) in last year    5\n",
       "Pertussis incidence per 100,000                                                              5\n",
       "H. influenza incidence per 100,000                                                           5\n",
       "Meningococcal incidence per 100,000                                                          5\n",
       "Hepatitis A incidence per 100,000                                                            5\n",
       "Mumps incidence per 100,000                                                                  5\n",
       "Pneumonia/flu hospitalization rate (Aged 65 years and older) per 10,000                      5\n",
       "Shigella incidence per 100,000                                                               5\n",
       "Salmonella incidence per 100,000                                                             5\n",
       "Name: indicator, dtype: int64"
      ]
     },
     "execution_count": 160,
     "metadata": {},
     "output_type": "execute_result"
    }
   ],
   "source": [
    "comm_health_ny[comm_health_ny.topic == \"Communicable Disease Indicators\"].indicator.value_counts()"
   ]
  },
  {
   "cell_type": "code",
   "execution_count": 161,
   "metadata": {},
   "outputs": [
    {
     "data": {
      "text/html": [
       "<div>\n",
       "<style>\n",
       "    .dataframe thead tr:only-child th {\n",
       "        text-align: right;\n",
       "    }\n",
       "\n",
       "    .dataframe thead th {\n",
       "        text-align: left;\n",
       "    }\n",
       "\n",
       "    .dataframe tbody tr th {\n",
       "        vertical-align: top;\n",
       "    }\n",
       "</style>\n",
       "<table border=\"1\" class=\"dataframe\">\n",
       "  <thead>\n",
       "    <tr style=\"text-align: right;\">\n",
       "      <th></th>\n",
       "      <th>county</th>\n",
       "      <th>topic</th>\n",
       "      <th>indicator</th>\n",
       "      <th>count</th>\n",
       "      <th>denom</th>\n",
       "      <th>unit</th>\n",
       "      <th>value</th>\n",
       "      <th>start_year</th>\n",
       "      <th>end_year</th>\n",
       "      <th>lat</th>\n",
       "      <th>lon</th>\n",
       "    </tr>\n",
       "  </thead>\n",
       "  <tbody>\n",
       "    <tr>\n",
       "      <th>12724</th>\n",
       "      <td>Bronx</td>\n",
       "      <td>Communicable Disease Indicators</td>\n",
       "      <td>Salmonella incidence per 100,000</td>\n",
       "      <td>607.0</td>\n",
       "      <td>1421788.0</td>\n",
       "      <td>Rate</td>\n",
       "      <td>14.2</td>\n",
       "      <td>2012.0</td>\n",
       "      <td>2014.0</td>\n",
       "      <td>40.855890</td>\n",
       "      <td>-73.868294</td>\n",
       "    </tr>\n",
       "    <tr>\n",
       "      <th>12748</th>\n",
       "      <td>Kings</td>\n",
       "      <td>Communicable Disease Indicators</td>\n",
       "      <td>Salmonella incidence per 100,000</td>\n",
       "      <td>1117.0</td>\n",
       "      <td>2593192.0</td>\n",
       "      <td>Rate</td>\n",
       "      <td>14.4</td>\n",
       "      <td>2012.0</td>\n",
       "      <td>2014.0</td>\n",
       "      <td>40.656420</td>\n",
       "      <td>-73.950691</td>\n",
       "    </tr>\n",
       "    <tr>\n",
       "      <th>12758</th>\n",
       "      <td>New York</td>\n",
       "      <td>Communicable Disease Indicators</td>\n",
       "      <td>Salmonella incidence per 100,000</td>\n",
       "      <td>620.0</td>\n",
       "      <td>1627172.0</td>\n",
       "      <td>Rate</td>\n",
       "      <td>12.7</td>\n",
       "      <td>2012.0</td>\n",
       "      <td>2014.0</td>\n",
       "      <td>40.726966</td>\n",
       "      <td>-74.005966</td>\n",
       "    </tr>\n",
       "    <tr>\n",
       "      <th>12771</th>\n",
       "      <td>Queens</td>\n",
       "      <td>Communicable Disease Indicators</td>\n",
       "      <td>Salmonella incidence per 100,000</td>\n",
       "      <td>826.0</td>\n",
       "      <td>2296842.0</td>\n",
       "      <td>Rate</td>\n",
       "      <td>12.0</td>\n",
       "      <td>2012.0</td>\n",
       "      <td>2014.0</td>\n",
       "      <td>40.749338</td>\n",
       "      <td>-73.789673</td>\n",
       "    </tr>\n",
       "    <tr>\n",
       "      <th>12773</th>\n",
       "      <td>Richmond</td>\n",
       "      <td>Communicable Disease Indicators</td>\n",
       "      <td>Salmonella incidence per 100,000</td>\n",
       "      <td>132.0</td>\n",
       "      <td>472209.0</td>\n",
       "      <td>Rate</td>\n",
       "      <td>9.3</td>\n",
       "      <td>2012.0</td>\n",
       "      <td>2014.0</td>\n",
       "      <td>40.566763</td>\n",
       "      <td>-74.148102</td>\n",
       "    </tr>\n",
       "  </tbody>\n",
       "</table>\n",
       "</div>"
      ],
      "text/plain": [
       "         county                            topic  \\\n",
       "12724     Bronx  Communicable Disease Indicators   \n",
       "12748     Kings  Communicable Disease Indicators   \n",
       "12758  New York  Communicable Disease Indicators   \n",
       "12771    Queens  Communicable Disease Indicators   \n",
       "12773  Richmond  Communicable Disease Indicators   \n",
       "\n",
       "                              indicator   count      denom  unit  value  \\\n",
       "12724  Salmonella incidence per 100,000   607.0  1421788.0  Rate   14.2   \n",
       "12748  Salmonella incidence per 100,000  1117.0  2593192.0  Rate   14.4   \n",
       "12758  Salmonella incidence per 100,000   620.0  1627172.0  Rate   12.7   \n",
       "12771  Salmonella incidence per 100,000   826.0  2296842.0  Rate   12.0   \n",
       "12773  Salmonella incidence per 100,000   132.0   472209.0  Rate    9.3   \n",
       "\n",
       "       start_year  end_year        lat        lon  \n",
       "12724      2012.0    2014.0  40.855890 -73.868294  \n",
       "12748      2012.0    2014.0  40.656420 -73.950691  \n",
       "12758      2012.0    2014.0  40.726966 -74.005966  \n",
       "12771      2012.0    2014.0  40.749338 -73.789673  \n",
       "12773      2012.0    2014.0  40.566763 -74.148102  "
      ]
     },
     "execution_count": 161,
     "metadata": {},
     "output_type": "execute_result"
    }
   ],
   "source": [
    "comm_health_ny[comm_health_ny.indicator == \"Salmonella incidence per 100,000\"]"
   ]
  },
  {
   "cell_type": "code",
   "execution_count": null,
   "metadata": {
    "collapsed": true
   },
   "outputs": [],
   "source": []
  }
 ],
 "metadata": {
  "kernelspec": {
   "display_name": "Python 3",
   "language": "python",
   "name": "python3"
  },
  "language_info": {
   "codemirror_mode": {
    "name": "ipython",
    "version": 3
   },
   "file_extension": ".py",
   "mimetype": "text/x-python",
   "name": "python",
   "nbconvert_exporter": "python",
   "pygments_lexer": "ipython3",
   "version": "3.6.3"
  }
 },
 "nbformat": 4,
 "nbformat_minor": 2
}
